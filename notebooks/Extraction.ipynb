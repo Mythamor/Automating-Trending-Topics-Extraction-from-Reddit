{
 "cells": [
  {
   "cell_type": "code",
   "execution_count": 32,
   "id": "02668753-640b-42bd-b91a-04463f6b4e03",
   "metadata": {},
   "outputs": [],
   "source": [
    "import pandas as pd\n",
    "import praw\n",
    "import json\n",
    "from datetime import datetime\n",
    "import os\n",
    "from dotenv import load_dotenv"
   ]
  },
  {
   "cell_type": "code",
   "execution_count": 20,
   "id": "831ca190-6095-4fdf-b7bb-a95a06f21b2f",
   "metadata": {},
   "outputs": [
    {
     "data": {
      "text/plain": [
       "True"
      ]
     },
     "execution_count": 20,
     "metadata": {},
     "output_type": "execute_result"
    }
   ],
   "source": [
    "# Load env variable\n",
    "load_dotenv(override=True)"
   ]
  },
  {
   "cell_type": "code",
   "execution_count": 21,
   "id": "f2d1afd9-bb23-4ec7-86cc-be6a1b860bc1",
   "metadata": {},
   "outputs": [],
   "source": [
    "# Reddit API credentials\n",
    "reddit = praw.Reddit(\n",
    "                    client_id=os.getenv(\"REDDIT_CLIENT_ID\"),\n",
    "                    client_secret=os.getenv(\"REDDIT_CLIENT_SECRET\"),\n",
    "                    user_agent=os.getenv(\"REDDIT_USER_AGENT\")\n",
    ")"
   ]
  },
  {
   "cell_type": "code",
   "execution_count": 22,
   "id": "d717f526-b50e-4bec-bc35-12cbcb3b008c",
   "metadata": {},
   "outputs": [
    {
     "name": "stdout",
     "output_type": "stream",
     "text": [
      "True\n"
     ]
    }
   ],
   "source": [
    "print(reddit.read_only)"
   ]
  },
  {
   "cell_type": "code",
   "execution_count": 38,
   "id": "802025ec-20ef-492d-b6e2-cad6bdca9a74",
   "metadata": {},
   "outputs": [
    {
     "data": {
      "text/html": [
       "<div>\n",
       "<style scoped>\n",
       "    .dataframe tbody tr th:only-of-type {\n",
       "        vertical-align: middle;\n",
       "    }\n",
       "\n",
       "    .dataframe tbody tr th {\n",
       "        vertical-align: top;\n",
       "    }\n",
       "\n",
       "    .dataframe thead th {\n",
       "        text-align: right;\n",
       "    }\n",
       "</style>\n",
       "<table border=\"1\" class=\"dataframe\">\n",
       "  <thead>\n",
       "    <tr style=\"text-align: right;\">\n",
       "      <th></th>\n",
       "      <th>id</th>\n",
       "      <th>title</th>\n",
       "      <th>author</th>\n",
       "      <th>subreddit</th>\n",
       "      <th>score</th>\n",
       "      <th>num_comments</th>\n",
       "      <th>created_utc</th>\n",
       "      <th>url</th>\n",
       "      <th>selftext</th>\n",
       "    </tr>\n",
       "  </thead>\n",
       "  <tbody>\n",
       "    <tr>\n",
       "      <th>0</th>\n",
       "      <td>1fm4tt7</td>\n",
       "      <td>Trump to women: Stop ‘thinking about abortion....</td>\n",
       "      <td>njdotcom</td>\n",
       "      <td>politics</td>\n",
       "      <td>6397</td>\n",
       "      <td>580</td>\n",
       "      <td>1.726930e+09</td>\n",
       "      <td>https://www.nj.com/politics/2024/09/trump-to-w...</td>\n",
       "      <td></td>\n",
       "    </tr>\n",
       "    <tr>\n",
       "      <th>1</th>\n",
       "      <td>1fm20ee</td>\n",
       "      <td>Vaporizing plastics recycles them into nothing...</td>\n",
       "      <td>AdSpecialist6598</td>\n",
       "      <td>technology</td>\n",
       "      <td>2282</td>\n",
       "      <td>354</td>\n",
       "      <td>1.726922e+09</td>\n",
       "      <td>https://arstechnica.com/science/2024/09/vapori...</td>\n",
       "      <td></td>\n",
       "    </tr>\n",
       "    <tr>\n",
       "      <th>2</th>\n",
       "      <td>1flzkzc</td>\n",
       "      <td>Voter registration is spiking, particularly am...</td>\n",
       "      <td>Cute-Perception2335</td>\n",
       "      <td>politics</td>\n",
       "      <td>12442</td>\n",
       "      <td>543</td>\n",
       "      <td>1.726913e+09</td>\n",
       "      <td>https://www.usatoday.com/story/news/politics/e...</td>\n",
       "      <td></td>\n",
       "    </tr>\n",
       "    <tr>\n",
       "      <th>3</th>\n",
       "      <td>1fm1pb1</td>\n",
       "      <td>America sort of likes Kamala Harris – and that...</td>\n",
       "      <td>flintflower</td>\n",
       "      <td>politics</td>\n",
       "      <td>5761</td>\n",
       "      <td>572</td>\n",
       "      <td>1.726921e+09</td>\n",
       "      <td>https://www.businessinsider.com/kamala-harris-...</td>\n",
       "      <td></td>\n",
       "    </tr>\n",
       "    <tr>\n",
       "      <th>4</th>\n",
       "      <td>1fm0dyg</td>\n",
       "      <td>A dramatic rise in pregnant women dying in Tex...</td>\n",
       "      <td>redditofthebanned</td>\n",
       "      <td>politics</td>\n",
       "      <td>5609</td>\n",
       "      <td>320</td>\n",
       "      <td>1.726916e+09</td>\n",
       "      <td>https://www.nbcnews.com/health/womens-health/t...</td>\n",
       "      <td></td>\n",
       "    </tr>\n",
       "  </tbody>\n",
       "</table>\n",
       "</div>"
      ],
      "text/plain": [
       "        id                                              title  \\\n",
       "0  1fm4tt7  Trump to women: Stop ‘thinking about abortion....   \n",
       "1  1fm20ee  Vaporizing plastics recycles them into nothing...   \n",
       "2  1flzkzc  Voter registration is spiking, particularly am...   \n",
       "3  1fm1pb1  America sort of likes Kamala Harris – and that...   \n",
       "4  1fm0dyg  A dramatic rise in pregnant women dying in Tex...   \n",
       "\n",
       "                author   subreddit  score  num_comments   created_utc  \\\n",
       "0             njdotcom    politics   6397           580  1.726930e+09   \n",
       "1     AdSpecialist6598  technology   2282           354  1.726922e+09   \n",
       "2  Cute-Perception2335    politics  12442           543  1.726913e+09   \n",
       "3          flintflower    politics   5761           572  1.726921e+09   \n",
       "4    redditofthebanned    politics   5609           320  1.726916e+09   \n",
       "\n",
       "                                                 url selftext  \n",
       "0  https://www.nj.com/politics/2024/09/trump-to-w...           \n",
       "1  https://arstechnica.com/science/2024/09/vapori...           \n",
       "2  https://www.usatoday.com/story/news/politics/e...           \n",
       "3  https://www.businessinsider.com/kamala-harris-...           \n",
       "4  https://www.nbcnews.com/health/womens-health/t...           "
      ]
     },
     "execution_count": 38,
     "metadata": {},
     "output_type": "execute_result"
    }
   ],
   "source": [
    "# Extract data from subreddit instance\n",
    "# Create empty list\n",
    "data = []\n",
    "\n",
    "# Loop over topics in hot category\n",
    "for submission in reddit.subreddit(\"ai+technology+politics\").hot(limit=1000):\n",
    "\n",
    "    # Create a data dictionary\n",
    "    data.append({\n",
    "        \n",
    "        \"id\":submission.id,\n",
    "        \"title\":submission.title,\n",
    "        \"author\": submission.author.name if submission.author else \"[deleted]\",\n",
    "        \"subreddit\": submission.subreddit.display_name,\n",
    "        \"score\":submission.score,\n",
    "        \"num_comments\": submission.num_comments,\n",
    "        \"created_utc\": submission.created_utc,\n",
    "        \"url\":submission.url,\n",
    "        \"selftext\": submission.selftext\n",
    "    })\n",
    "\n",
    "df = pd.DataFrame(data)\n",
    "\n",
    "df.to_csv('../data/extracted_reddit.csv')\n",
    "\n",
    "df.head()"
   ]
  },
  {
   "cell_type": "code",
   "execution_count": 43,
   "id": "dd2e556f-0421-4a9c-8228-3614d33607a2",
   "metadata": {},
   "outputs": [
    {
     "name": "stdout",
     "output_type": "stream",
     "text": [
      "<class 'pandas.core.frame.DataFrame'>\n",
      "RangeIndex: 20 entries, 0 to 19\n",
      "Data columns (total 9 columns):\n",
      " #   Column        Non-Null Count  Dtype  \n",
      "---  ------        --------------  -----  \n",
      " 0   id            20 non-null     object \n",
      " 1   title         20 non-null     object \n",
      " 2   author        20 non-null     object \n",
      " 3   subreddit     20 non-null     object \n",
      " 4   score         20 non-null     int64  \n",
      " 5   num_comments  20 non-null     int64  \n",
      " 6   created_utc   20 non-null     float64\n",
      " 7   url           20 non-null     object \n",
      " 8   selftext      20 non-null     object \n",
      "dtypes: float64(1), int64(2), object(6)\n",
      "memory usage: 1.5+ KB\n"
     ]
    }
   ],
   "source": [
    "# Investigate data\n",
    "df.info()"
   ]
  },
  {
   "cell_type": "code",
   "execution_count": 44,
   "id": "b4e87f01-a11c-4188-b2ee-4a14990fa93d",
   "metadata": {},
   "outputs": [
    {
     "data": {
      "text/html": [
       "<div>\n",
       "<style scoped>\n",
       "    .dataframe tbody tr th:only-of-type {\n",
       "        vertical-align: middle;\n",
       "    }\n",
       "\n",
       "    .dataframe tbody tr th {\n",
       "        vertical-align: top;\n",
       "    }\n",
       "\n",
       "    .dataframe thead th {\n",
       "        text-align: right;\n",
       "    }\n",
       "</style>\n",
       "<table border=\"1\" class=\"dataframe\">\n",
       "  <thead>\n",
       "    <tr style=\"text-align: right;\">\n",
       "      <th></th>\n",
       "      <th>id</th>\n",
       "      <th>title</th>\n",
       "      <th>author</th>\n",
       "      <th>subreddit</th>\n",
       "      <th>score</th>\n",
       "      <th>num_comments</th>\n",
       "      <th>created_utc</th>\n",
       "      <th>url</th>\n",
       "      <th>selftext</th>\n",
       "    </tr>\n",
       "  </thead>\n",
       "  <tbody>\n",
       "    <tr>\n",
       "      <th>0</th>\n",
       "      <td>1fm4tt7</td>\n",
       "      <td>Trump to women: Stop ‘thinking about abortion....</td>\n",
       "      <td>njdotcom</td>\n",
       "      <td>politics</td>\n",
       "      <td>6397</td>\n",
       "      <td>580</td>\n",
       "      <td>2024-09-21 14:54:23</td>\n",
       "      <td>https://www.nj.com/politics/2024/09/trump-to-w...</td>\n",
       "      <td></td>\n",
       "    </tr>\n",
       "    <tr>\n",
       "      <th>1</th>\n",
       "      <td>1fm20ee</td>\n",
       "      <td>Vaporizing plastics recycles them into nothing...</td>\n",
       "      <td>AdSpecialist6598</td>\n",
       "      <td>technology</td>\n",
       "      <td>2282</td>\n",
       "      <td>354</td>\n",
       "      <td>2024-09-21 12:35:34</td>\n",
       "      <td>https://arstechnica.com/science/2024/09/vapori...</td>\n",
       "      <td></td>\n",
       "    </tr>\n",
       "    <tr>\n",
       "      <th>2</th>\n",
       "      <td>1flzkzc</td>\n",
       "      <td>Voter registration is spiking, particularly am...</td>\n",
       "      <td>Cute-Perception2335</td>\n",
       "      <td>politics</td>\n",
       "      <td>12442</td>\n",
       "      <td>543</td>\n",
       "      <td>2024-09-21 10:00:12</td>\n",
       "      <td>https://www.usatoday.com/story/news/politics/e...</td>\n",
       "      <td></td>\n",
       "    </tr>\n",
       "    <tr>\n",
       "      <th>3</th>\n",
       "      <td>1fm1pb1</td>\n",
       "      <td>America sort of likes Kamala Harris – and that...</td>\n",
       "      <td>flintflower</td>\n",
       "      <td>politics</td>\n",
       "      <td>5761</td>\n",
       "      <td>572</td>\n",
       "      <td>2024-09-21 12:18:17</td>\n",
       "      <td>https://www.businessinsider.com/kamala-harris-...</td>\n",
       "      <td></td>\n",
       "    </tr>\n",
       "    <tr>\n",
       "      <th>4</th>\n",
       "      <td>1fm0dyg</td>\n",
       "      <td>A dramatic rise in pregnant women dying in Tex...</td>\n",
       "      <td>redditofthebanned</td>\n",
       "      <td>politics</td>\n",
       "      <td>5609</td>\n",
       "      <td>320</td>\n",
       "      <td>2024-09-21 10:56:30</td>\n",
       "      <td>https://www.nbcnews.com/health/womens-health/t...</td>\n",
       "      <td></td>\n",
       "    </tr>\n",
       "  </tbody>\n",
       "</table>\n",
       "</div>"
      ],
      "text/plain": [
       "        id                                              title  \\\n",
       "0  1fm4tt7  Trump to women: Stop ‘thinking about abortion....   \n",
       "1  1fm20ee  Vaporizing plastics recycles them into nothing...   \n",
       "2  1flzkzc  Voter registration is spiking, particularly am...   \n",
       "3  1fm1pb1  America sort of likes Kamala Harris – and that...   \n",
       "4  1fm0dyg  A dramatic rise in pregnant women dying in Tex...   \n",
       "\n",
       "                author   subreddit  score  num_comments         created_utc  \\\n",
       "0             njdotcom    politics   6397           580 2024-09-21 14:54:23   \n",
       "1     AdSpecialist6598  technology   2282           354 2024-09-21 12:35:34   \n",
       "2  Cute-Perception2335    politics  12442           543 2024-09-21 10:00:12   \n",
       "3          flintflower    politics   5761           572 2024-09-21 12:18:17   \n",
       "4    redditofthebanned    politics   5609           320 2024-09-21 10:56:30   \n",
       "\n",
       "                                                 url selftext  \n",
       "0  https://www.nj.com/politics/2024/09/trump-to-w...           \n",
       "1  https://arstechnica.com/science/2024/09/vapori...           \n",
       "2  https://www.usatoday.com/story/news/politics/e...           \n",
       "3  https://www.businessinsider.com/kamala-harris-...           \n",
       "4  https://www.nbcnews.com/health/womens-health/t...           "
      ]
     },
     "execution_count": 44,
     "metadata": {},
     "output_type": "execute_result"
    }
   ],
   "source": [
    "df['created_utc'] = pd.to_datetime(df.created_utc, unit='s')\n",
    "df.head()"
   ]
  },
  {
   "cell_type": "code",
   "execution_count": 42,
   "id": "030370e9-0f24-4000-a86c-7765eda246c8",
   "metadata": {},
   "outputs": [
    {
     "data": {
      "text/plain": [
       "subreddit\n",
       "politics      13\n",
       "technology     7\n",
       "Name: count, dtype: int64"
      ]
     },
     "execution_count": 42,
     "metadata": {},
     "output_type": "execute_result"
    }
   ],
   "source": [
    "df.subreddit.value_counts()"
   ]
  },
  {
   "cell_type": "code",
   "execution_count": 41,
   "id": "aaff688c-609c-492c-994d-e420838154e1",
   "metadata": {},
   "outputs": [
    {
     "data": {
      "text/plain": [
       "'https://www.nj.com/politics/2024/09/trump-to-women-youre-broke-and-depressed-but-i-can-make-you-happy.html'"
      ]
     },
     "execution_count": 41,
     "metadata": {},
     "output_type": "execute_result"
    }
   ],
   "source": [
    "df['url'][0]"
   ]
  },
  {
   "cell_type": "code",
   "execution_count": 56,
   "id": "5c58f9ee-0672-44dc-96a8-566154900227",
   "metadata": {},
   "outputs": [
    {
     "data": {
      "text/html": [
       "<div>\n",
       "<style scoped>\n",
       "    .dataframe tbody tr th:only-of-type {\n",
       "        vertical-align: middle;\n",
       "    }\n",
       "\n",
       "    .dataframe tbody tr th {\n",
       "        vertical-align: top;\n",
       "    }\n",
       "\n",
       "    .dataframe thead th {\n",
       "        text-align: right;\n",
       "    }\n",
       "</style>\n",
       "<table border=\"1\" class=\"dataframe\">\n",
       "  <thead>\n",
       "    <tr style=\"text-align: right;\">\n",
       "      <th></th>\n",
       "      <th>Unnamed: 0</th>\n",
       "      <th>id</th>\n",
       "      <th>title</th>\n",
       "      <th>author</th>\n",
       "      <th>subreddit</th>\n",
       "      <th>score</th>\n",
       "      <th>num_comments</th>\n",
       "      <th>created_utc</th>\n",
       "      <th>url</th>\n",
       "      <th>selftext</th>\n",
       "    </tr>\n",
       "  </thead>\n",
       "  <tbody>\n",
       "    <tr>\n",
       "      <th>0</th>\n",
       "      <td>0</td>\n",
       "      <td>1fm4tt7</td>\n",
       "      <td>Trump to women: Stop ‘thinking about abortion....</td>\n",
       "      <td>njdotcom</td>\n",
       "      <td>politics</td>\n",
       "      <td>8373</td>\n",
       "      <td>724</td>\n",
       "      <td>1.726930e+09</td>\n",
       "      <td>https://www.nj.com/politics/2024/09/trump-to-w...</td>\n",
       "      <td>NaN</td>\n",
       "    </tr>\n",
       "    <tr>\n",
       "      <th>1</th>\n",
       "      <td>1</td>\n",
       "      <td>1fm20ee</td>\n",
       "      <td>Vaporizing plastics recycles them into nothing...</td>\n",
       "      <td>AdSpecialist6598</td>\n",
       "      <td>technology</td>\n",
       "      <td>2559</td>\n",
       "      <td>375</td>\n",
       "      <td>1.726922e+09</td>\n",
       "      <td>https://arstechnica.com/science/2024/09/vapori...</td>\n",
       "      <td>NaN</td>\n",
       "    </tr>\n",
       "    <tr>\n",
       "      <th>2</th>\n",
       "      <td>2</td>\n",
       "      <td>1flzkzc</td>\n",
       "      <td>Voter registration is spiking, particularly am...</td>\n",
       "      <td>Cute-Perception2335</td>\n",
       "      <td>politics</td>\n",
       "      <td>13342</td>\n",
       "      <td>557</td>\n",
       "      <td>1.726913e+09</td>\n",
       "      <td>https://www.usatoday.com/story/news/politics/e...</td>\n",
       "      <td>NaN</td>\n",
       "    </tr>\n",
       "    <tr>\n",
       "      <th>3</th>\n",
       "      <td>3</td>\n",
       "      <td>1fm1pb1</td>\n",
       "      <td>America sort of likes Kamala Harris – and that...</td>\n",
       "      <td>flintflower</td>\n",
       "      <td>politics</td>\n",
       "      <td>6112</td>\n",
       "      <td>601</td>\n",
       "      <td>1.726921e+09</td>\n",
       "      <td>https://www.businessinsider.com/kamala-harris-...</td>\n",
       "      <td>NaN</td>\n",
       "    </tr>\n",
       "    <tr>\n",
       "      <th>4</th>\n",
       "      <td>4</td>\n",
       "      <td>1fm0dyg</td>\n",
       "      <td>A dramatic rise in pregnant women dying in Tex...</td>\n",
       "      <td>redditofthebanned</td>\n",
       "      <td>politics</td>\n",
       "      <td>5985</td>\n",
       "      <td>335</td>\n",
       "      <td>1.726916e+09</td>\n",
       "      <td>https://www.nbcnews.com/health/womens-health/t...</td>\n",
       "      <td>NaN</td>\n",
       "    </tr>\n",
       "  </tbody>\n",
       "</table>\n",
       "</div>"
      ],
      "text/plain": [
       "   Unnamed: 0       id                                              title  \\\n",
       "0           0  1fm4tt7  Trump to women: Stop ‘thinking about abortion....   \n",
       "1           1  1fm20ee  Vaporizing plastics recycles them into nothing...   \n",
       "2           2  1flzkzc  Voter registration is spiking, particularly am...   \n",
       "3           3  1fm1pb1  America sort of likes Kamala Harris – and that...   \n",
       "4           4  1fm0dyg  A dramatic rise in pregnant women dying in Tex...   \n",
       "\n",
       "                author   subreddit  score  num_comments   created_utc  \\\n",
       "0             njdotcom    politics   8373           724  1.726930e+09   \n",
       "1     AdSpecialist6598  technology   2559           375  1.726922e+09   \n",
       "2  Cute-Perception2335    politics  13342           557  1.726913e+09   \n",
       "3          flintflower    politics   6112           601  1.726921e+09   \n",
       "4    redditofthebanned    politics   5985           335  1.726916e+09   \n",
       "\n",
       "                                                 url selftext  \n",
       "0  https://www.nj.com/politics/2024/09/trump-to-w...      NaN  \n",
       "1  https://arstechnica.com/science/2024/09/vapori...      NaN  \n",
       "2  https://www.usatoday.com/story/news/politics/e...      NaN  \n",
       "3  https://www.businessinsider.com/kamala-harris-...      NaN  \n",
       "4  https://www.nbcnews.com/health/womens-health/t...      NaN  "
      ]
     },
     "execution_count": 56,
     "metadata": {},
     "output_type": "execute_result"
    }
   ],
   "source": [
    "x = pd.read_csv('../data/extracted_reddit.csv')\n",
    "x.head()"
   ]
  },
  {
   "cell_type": "code",
   "execution_count": 68,
   "id": "0842c87f-42e7-4624-b377-5551333702fb",
   "metadata": {},
   "outputs": [
    {
     "data": {
      "text/plain": [
       "'https://www.axios.com/2024/09/19/discharge-petition-social-security-mike-johnson'"
      ]
     },
     "execution_count": 68,
     "metadata": {},
     "output_type": "execute_result"
    }
   ],
   "source": [
    "m  = x['url'][40]\n",
    "m"
   ]
  },
  {
   "cell_type": "code",
   "execution_count": 69,
   "id": "f3ba1e95-01e6-4d94-aa8e-4037ea86f2b7",
   "metadata": {},
   "outputs": [],
   "source": [
    "import re\n",
    "from urllib.parse import urlparse"
   ]
  },
  {
   "cell_type": "code",
   "execution_count": 70,
   "id": "3021a624-ae6e-416a-9612-62e88079c651",
   "metadata": {},
   "outputs": [
    {
     "data": {
      "text/plain": [
       "ParseResult(scheme='https', netloc='www.axios.com', path='/2024/09/19/discharge-petition-social-security-mike-johnson', params='', query='', fragment='')"
      ]
     },
     "execution_count": 70,
     "metadata": {},
     "output_type": "execute_result"
    }
   ],
   "source": [
    "n = urlparse(m)\n",
    "n"
   ]
  },
  {
   "cell_type": "code",
   "execution_count": 76,
   "id": "128dd9b7-c5b7-4998-ac9a-8dd8b53a4180",
   "metadata": {},
   "outputs": [
    {
     "data": {
      "text/plain": [
       "['2024', '09']"
      ]
     },
     "execution_count": 76,
     "metadata": {},
     "output_type": "execute_result"
    }
   ],
   "source": [
    "c = urlparse(m).path.split('/')[1:3]\n",
    "c"
   ]
  },
  {
   "cell_type": "code",
   "execution_count": 72,
   "id": "7aa22a1a-0608-4d92-abc8-29bfa1120c12",
   "metadata": {},
   "outputs": [
    {
     "data": {
      "text/plain": [
       "['2024', '09', '19', 'discharge-petition-social-security-mike-johnson']"
      ]
     },
     "execution_count": 72,
     "metadata": {},
     "output_type": "execute_result"
    }
   ],
   "source": [
    "[part for part in c if part]"
   ]
  },
  {
   "cell_type": "code",
   "execution_count": 79,
   "id": "ca4d1040-553d-474c-903c-566a079f9483",
   "metadata": {},
   "outputs": [
    {
     "data": {
      "text/html": [
       "<div>\n",
       "<style scoped>\n",
       "    .dataframe tbody tr th:only-of-type {\n",
       "        vertical-align: middle;\n",
       "    }\n",
       "\n",
       "    .dataframe tbody tr th {\n",
       "        vertical-align: top;\n",
       "    }\n",
       "\n",
       "    .dataframe thead th {\n",
       "        text-align: right;\n",
       "    }\n",
       "</style>\n",
       "<table border=\"1\" class=\"dataframe\">\n",
       "  <thead>\n",
       "    <tr style=\"text-align: right;\">\n",
       "      <th></th>\n",
       "      <th>id</th>\n",
       "      <th>title</th>\n",
       "      <th>author</th>\n",
       "      <th>subreddit</th>\n",
       "      <th>score</th>\n",
       "      <th>num_comments</th>\n",
       "      <th>created_utc</th>\n",
       "      <th>url</th>\n",
       "      <th>selftext</th>\n",
       "      <th>website_source</th>\n",
       "      <th>sub_categories</th>\n",
       "    </tr>\n",
       "  </thead>\n",
       "  <tbody>\n",
       "    <tr>\n",
       "      <th>0</th>\n",
       "      <td>1fm4tt7</td>\n",
       "      <td>Trump to women: Stop ‘thinking about abortion....</td>\n",
       "      <td>njdotcom</td>\n",
       "      <td>politics</td>\n",
       "      <td>6397</td>\n",
       "      <td>580</td>\n",
       "      <td>2024-09-21 14:54:23</td>\n",
       "      <td>https://www.nj.com/politics/2024/09/trump-to-w...</td>\n",
       "      <td></td>\n",
       "      <td>www.nj.com</td>\n",
       "      <td>politics</td>\n",
       "    </tr>\n",
       "    <tr>\n",
       "      <th>1</th>\n",
       "      <td>1fm20ee</td>\n",
       "      <td>Vaporizing plastics recycles them into nothing...</td>\n",
       "      <td>AdSpecialist6598</td>\n",
       "      <td>technology</td>\n",
       "      <td>2282</td>\n",
       "      <td>354</td>\n",
       "      <td>2024-09-21 12:35:34</td>\n",
       "      <td>https://arstechnica.com/science/2024/09/vapori...</td>\n",
       "      <td></td>\n",
       "      <td>arstechnica.com</td>\n",
       "      <td>science</td>\n",
       "    </tr>\n",
       "    <tr>\n",
       "      <th>2</th>\n",
       "      <td>1flzkzc</td>\n",
       "      <td>Voter registration is spiking, particularly am...</td>\n",
       "      <td>Cute-Perception2335</td>\n",
       "      <td>politics</td>\n",
       "      <td>12442</td>\n",
       "      <td>543</td>\n",
       "      <td>2024-09-21 10:00:12</td>\n",
       "      <td>https://www.usatoday.com/story/news/politics/e...</td>\n",
       "      <td></td>\n",
       "      <td>www.usatoday.com</td>\n",
       "      <td>story</td>\n",
       "    </tr>\n",
       "    <tr>\n",
       "      <th>3</th>\n",
       "      <td>1fm1pb1</td>\n",
       "      <td>America sort of likes Kamala Harris – and that...</td>\n",
       "      <td>flintflower</td>\n",
       "      <td>politics</td>\n",
       "      <td>5761</td>\n",
       "      <td>572</td>\n",
       "      <td>2024-09-21 12:18:17</td>\n",
       "      <td>https://www.businessinsider.com/kamala-harris-...</td>\n",
       "      <td></td>\n",
       "      <td>www.businessinsider.com</td>\n",
       "      <td>kamala-harris-favorability-polls-reverse-trump...</td>\n",
       "    </tr>\n",
       "    <tr>\n",
       "      <th>4</th>\n",
       "      <td>1fm0dyg</td>\n",
       "      <td>A dramatic rise in pregnant women dying in Tex...</td>\n",
       "      <td>redditofthebanned</td>\n",
       "      <td>politics</td>\n",
       "      <td>5609</td>\n",
       "      <td>320</td>\n",
       "      <td>2024-09-21 10:56:30</td>\n",
       "      <td>https://www.nbcnews.com/health/womens-health/t...</td>\n",
       "      <td></td>\n",
       "      <td>www.nbcnews.com</td>\n",
       "      <td>health</td>\n",
       "    </tr>\n",
       "  </tbody>\n",
       "</table>\n",
       "</div>"
      ],
      "text/plain": [
       "        id                                              title  \\\n",
       "0  1fm4tt7  Trump to women: Stop ‘thinking about abortion....   \n",
       "1  1fm20ee  Vaporizing plastics recycles them into nothing...   \n",
       "2  1flzkzc  Voter registration is spiking, particularly am...   \n",
       "3  1fm1pb1  America sort of likes Kamala Harris – and that...   \n",
       "4  1fm0dyg  A dramatic rise in pregnant women dying in Tex...   \n",
       "\n",
       "                author   subreddit  score  num_comments         created_utc  \\\n",
       "0             njdotcom    politics   6397           580 2024-09-21 14:54:23   \n",
       "1     AdSpecialist6598  technology   2282           354 2024-09-21 12:35:34   \n",
       "2  Cute-Perception2335    politics  12442           543 2024-09-21 10:00:12   \n",
       "3          flintflower    politics   5761           572 2024-09-21 12:18:17   \n",
       "4    redditofthebanned    politics   5609           320 2024-09-21 10:56:30   \n",
       "\n",
       "                                                 url selftext  \\\n",
       "0  https://www.nj.com/politics/2024/09/trump-to-w...            \n",
       "1  https://arstechnica.com/science/2024/09/vapori...            \n",
       "2  https://www.usatoday.com/story/news/politics/e...            \n",
       "3  https://www.businessinsider.com/kamala-harris-...            \n",
       "4  https://www.nbcnews.com/health/womens-health/t...            \n",
       "\n",
       "            website_source                                     sub_categories  \n",
       "0               www.nj.com                                           politics  \n",
       "1          arstechnica.com                                            science  \n",
       "2         www.usatoday.com                                              story  \n",
       "3  www.businessinsider.com  kamala-harris-favorability-polls-reverse-trump...  \n",
       "4          www.nbcnews.com                                             health  "
      ]
     },
     "execution_count": 79,
     "metadata": {},
     "output_type": "execute_result"
    }
   ],
   "source": [
    "import re\n",
    "from urllib.parse import urlparse\n",
    "# Function to extract domain and subcategories\n",
    "def extract_info(url):\n",
    "    # Extract website source (domain)\n",
    "    parsed_url = urlparse(url)\n",
    "    website_source = parsed_url.netloc  # Extract domain\n",
    "    \n",
    "    # Extract subcategories from the path\n",
    "    subcategories = parsed_url.path.split('/')[1]  # Split path into parts and remove empty strings\n",
    "    #subcategories = [part for part in subcategories if part]  # Filter out empty strings\n",
    "    \n",
    "    return website_source, subcategories\n",
    "\n",
    "# Apply the extraction to the 'URLs' column\n",
    "df[['website_source', 'sub_categories']] = df['url'].apply(lambda url: pd.Series(extract_info(url)))\n",
    "\n",
    "# Display the DataFrame\n",
    "df.head()"
   ]
  },
  {
   "cell_type": "code",
   "execution_count": null,
   "id": "01e51d58-d80f-4a4e-aacc-88923fdcba04",
   "metadata": {},
   "outputs": [],
   "source": []
  }
 ],
 "metadata": {
  "kernelspec": {
   "display_name": "Python 3 (ipykernel)",
   "language": "python",
   "name": "python3"
  },
  "language_info": {
   "codemirror_mode": {
    "name": "ipython",
    "version": 3
   },
   "file_extension": ".py",
   "mimetype": "text/x-python",
   "name": "python",
   "nbconvert_exporter": "python",
   "pygments_lexer": "ipython3",
   "version": "3.11.9"
  }
 },
 "nbformat": 4,
 "nbformat_minor": 5
}
